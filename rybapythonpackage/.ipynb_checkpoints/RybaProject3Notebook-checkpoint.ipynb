{
 "cells": [
  {
   "cell_type": "markdown",
   "metadata": {},
   "source": [
    "# Project Three\n",
    "\n",
    "Here's what you're going to do.\n",
    "\n",
    "## Part One\n",
    "\n",
    "You're going to run each of the functions in the package.\n",
    "\n",
    "(15 pts each Error 1, Error 2, Error 3)"
   ]
  },
  {
   "cell_type": "markdown",
   "metadata": {},
   "source": [
    "1) Error 1 - paste in the traceback. \n",
    "\n",
    "\n"
   ]
  },
  {
   "cell_type": "markdown",
   "metadata": {},
   "source": [
    "AssertionError                            Traceback (most recent call last)\n",
    "<ipython-input-13-33b2269b969a> in <module>()\n",
    "----> 1 rybapythonpackage.sequence_reader(\"../data/full_plethodon_alignment.phy\")\n",
    "\n",
    "~/.local/lib/python3.6/site-packages/rybapythonpackage/sequence_reader.py in sequence_reader(filepath)\n",
    "      3 \n",
    "      4 def sequence_reader(filepath):\n",
    "----> 5     assert os.path.exists(filepath)\n",
    "      6     sequence_set = dendropy.DnaCharacterMatrix.get(\n",
    "      7         path=filepath,\n",
    "\n",
    "AssertionError: \n"
   ]
  },
  {
   "cell_type": "markdown",
   "metadata": {},
   "source": [
    "2) Error 1 - What type of error is this? In your own words, what went wrong?"
   ]
  },
  {
   "cell_type": "markdown",
   "metadata": {},
   "source": [
    "This is an assertion error. It went wrong because the filepath does not exist in a phylip schema, it is in a fasta format but it is labeled wrong. "
   ]
  },
  {
   "cell_type": "markdown",
   "metadata": {},
   "source": [
    "3) Error 1 - Resolve this. In your own words, _how_ did you resolve the error? "
   ]
  },
  {
   "cell_type": "markdown",
   "metadata": {},
   "source": [
    "I switched the data file to a different file which is in a phylip format. "
   ]
  },
  {
   "cell_type": "markdown",
   "metadata": {},
   "source": [
    "No Points) If you googled the error, paste in a link to a website you found helpful."
   ]
  },
  {
   "cell_type": "markdown",
   "metadata": {},
   "source": []
  },
  {
   "cell_type": "markdown",
   "metadata": {},
   "source": [
    "5) Error 2 - paste in the traceback. \n",
    "\n",
    "\n"
   ]
  },
  {
   "cell_type": "markdown",
   "metadata": {},
   "source": [
    "---------------------------------------------------------------------------\n",
    "TypeError                                 Traceback (most recent call last)\n",
    "<ipython-input-7-4fcd0f211303> in <module>()\n",
    "----> 1 rybapythonpackage.sequence_cleanup(\"../../data/plethodon.phy\", \"../../data/out_file\", 'Plethodon_asupak', 'cytb')\n",
    "\n",
    "~/.local/lib/python3.6/site-packages/rybapythonpackage/sequence_cleanup.py in sequence_cleanup(sequence_set, out_file, taxon, gene)\n",
    "      5     #pre: do files include taxon and gene\n",
    "      6     #check what type the data is (object, float, int)\n",
    "----> 7     assert sequence_set[taxon]\n",
    "      8     my_taxon_sequence = sequence_set[taxon].symbols_as_string()\n",
    "      9     my_taxon_sequence[int(gene[0]) : int(gene[1])]\n",
    "\n",
    "TypeError: string indices must be integers"
   ]
  },
  {
   "cell_type": "markdown",
   "metadata": {},
   "source": [
    "6) Error 2 - What type of error is this? In your own words, what went wrong?"
   ]
  },
  {
   "cell_type": "markdown",
   "metadata": {},
   "source": [
    "This is a typeError. It did not like the way we had the fourth argument (gene) set up in the function. "
   ]
  },
  {
   "cell_type": "markdown",
   "metadata": {},
   "source": [
    "7) Error 2 - Resolve this. In your own words, _how_ did you resolve the error? "
   ]
  },
  {
   "cell_type": "markdown",
   "metadata": {},
   "source": [
    "We changed the gene argument and split it into two different arguments (start_gene and end_gene). "
   ]
  },
  {
   "cell_type": "markdown",
   "metadata": {},
   "source": [
    "No Points) If you googled the error, paste in a link to a website you found helpful."
   ]
  },
  {
   "cell_type": "markdown",
   "metadata": {},
   "source": []
  },
  {
   "cell_type": "markdown",
   "metadata": {},
   "source": [
    "8) Error 3 - paste in the traceback. \n"
   ]
  },
  {
   "cell_type": "markdown",
   "metadata": {},
   "source": [
    "---------------------------------------------------------------------------\n",
    "AssertionError                            Traceback (most recent call last)\n",
    "<ipython-input-11-ff7b728fc307> in <module>()\n",
    "----> 1 rybapythonpackage.sequence_blaster(\"../../data/out_file.fasta\", \"../../data/result_path.xml\")\n",
    "\n",
    "~/.local/lib/python3.6/site-packages/rybapythonpackage/sequence_blaster.py in sequence_blaster(fasta_path, results_path)\n",
    "     12     save_file.close()\n",
    "     13 \n",
    "---> 14     assert os.stat(result_path).st_size != 0\n",
    "     15 \n",
    "\n",
    "AssertionError: "
   ]
  },
  {
   "cell_type": "markdown",
   "metadata": {},
   "source": [
    "9) Error 3 - What type of error is this? In your own words, what went wrong?"
   ]
  },
  {
   "cell_type": "markdown",
   "metadata": {},
   "source": [
    "This is another assertion error, so the file from the blast search is empty. "
   ]
  },
  {
   "cell_type": "markdown",
   "metadata": {},
   "source": [
    "10) Error 2 - Resolve this. In your own words, _how_ did you resolve the error? "
   ]
  },
  {
   "cell_type": "markdown",
   "metadata": {},
   "source": [
    "In my sequence_blaster.py file, I had things not named the same so it wasn't saving anywhere. "
   ]
  },
  {
   "cell_type": "markdown",
   "metadata": {},
   "source": [
    "11) Google one of errors. What search phrase actually got you helpful results?"
   ]
  },
  {
   "cell_type": "markdown",
   "metadata": {},
   "source": [
    "I googled \"python string indices must be integers\" and got this website which was helpful: https://www.codecademy.com/en/forum_questions/51fb851babf821be89002852"
   ]
  },
  {
   "cell_type": "markdown",
   "metadata": {},
   "source": [
    "## Part Two \n",
    "\n",
    "You're going to add one function to the package. "
   ]
  },
  {
   "cell_type": "markdown",
   "metadata": {},
   "source": [
    "1) (15pts) The function should be in its own file"
   ]
  },
  {
   "cell_type": "markdown",
   "metadata": {},
   "source": [
    "2) (15 pts) You should write a docstring so I know what the function does"
   ]
  },
  {
   "cell_type": "markdown",
   "metadata": {},
   "source": [
    "3) (15 pts) The function should contain either a precondition, or a postcondition"
   ]
  },
  {
   "cell_type": "markdown",
   "metadata": {},
   "source": [
    "## Part Three\n",
    "(10 pts)\n",
    "Add all your files, commit the files, and push them to your GitHub. Also include a copy of this notebook in the package. "
   ]
  },
  {
   "cell_type": "code",
   "execution_count": 1,
   "metadata": {},
   "outputs": [],
   "source": [
    "import rybapythonpackage as rpp"
   ]
  },
  {
   "cell_type": "code",
   "execution_count": null,
   "metadata": {},
   "outputs": [],
   "source": [
    "set = rpp.sequence_reader(\"../../RybaPythonPackage/data/plethodon.phy\")\n",
    "set"
   ]
  },
  {
   "cell_type": "code",
   "execution_count": null,
   "metadata": {},
   "outputs": [],
   "source": [
    "rpp.sequence_cleanup(set, \"../../RybaPythonPackage/data/pletho\", \"Plethodon_kentucki\", 4097, 5236)\n",
    "#pletho is not the same file that is used in the next step because it uploads wrong, so I have to manually edit it. "
   ]
  },
  {
   "cell_type": "code",
   "execution_count": null,
   "metadata": {},
   "outputs": [],
   "source": [
    "rpp.sequence_blaster(\"../../RybaPythonPackage/data/pletha\", \"../../RybaPythonPackage/data/final\")"
   ]
  },
  {
   "cell_type": "code",
   "execution_count": 2,
   "metadata": {},
   "outputs": [
    {
     "name": "stdout",
     "output_type": "stream",
     "text": [
      "Reverse is ereh egassem nuf tresni\n"
     ]
    }
   ],
   "source": [
    "rpp.fun(\"insert fun message here\")"
   ]
  },
  {
   "cell_type": "code",
   "execution_count": null,
   "metadata": {},
   "outputs": [],
   "source": [
    "rpp.parse(\"../../RybaPythonPackage/data/final\")"
   ]
  }
 ],
 "metadata": {
  "kernelspec": {
   "display_name": "Python 3",
   "language": "python",
   "name": "python3"
  },
  "language_info": {
   "codemirror_mode": {
    "name": "ipython",
    "version": 3
   },
   "file_extension": ".py",
   "mimetype": "text/x-python",
   "name": "python",
   "nbconvert_exporter": "python",
   "pygments_lexer": "ipython3",
   "version": "3.6.6"
  },
  "latex_envs": {
   "LaTeX_envs_menu_present": true,
   "autoclose": false,
   "autocomplete": true,
   "bibliofile": "biblio.bib",
   "cite_by": "apalike",
   "current_citInitial": 1,
   "eqLabelWithNumbers": true,
   "eqNumInitial": 1,
   "hotkeys": {
    "equation": "Ctrl-E",
    "itemize": "Ctrl-I"
   },
   "labels_anchors": false,
   "latex_user_defs": false,
   "report_style_numbering": false,
   "user_envs_cfg": false
  },
  "toc": {
   "base_numbering": 1,
   "nav_menu": {},
   "number_sections": true,
   "sideBar": true,
   "skip_h1_title": false,
   "title_cell": "Table of Contents",
   "title_sidebar": "Contents",
   "toc_cell": false,
   "toc_position": {},
   "toc_section_display": true,
   "toc_window_display": false
  }
 },
 "nbformat": 4,
 "nbformat_minor": 2
}
